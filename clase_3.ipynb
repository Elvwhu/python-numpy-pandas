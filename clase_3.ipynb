{
  "nbformat": 4,
  "nbformat_minor": 0,
  "metadata": {
    "colab": {
      "provenance": [],
      "authorship_tag": "ABX9TyMEhEUEFTlV1o7tTg4z6Jiq",
      "include_colab_link": true
    },
    "kernelspec": {
      "name": "python3",
      "display_name": "Python 3"
    },
    "language_info": {
      "name": "python"
    }
  },
  "cells": [
    {
      "cell_type": "markdown",
      "metadata": {
        "id": "view-in-github",
        "colab_type": "text"
      },
      "source": [
        "<a href=\"https://colab.research.google.com/github/Elvwhu/python-numpy-pandas/blob/main/clase_3.ipynb\" target=\"_parent\"><img src=\"https://colab.research.google.com/assets/colab-badge.svg\" alt=\"Open In Colab\"/></a>"
      ]
    },
    {
      "cell_type": "markdown",
      "source": [
        "\n",
        "# **Indexación**\n",
        "Forma de acceder a los elementos de un array por medio de su índice.\n",
        "\n",
        "📢 Los indices empiezan a partir del 0 que representa el primer elemento del array."
      ],
      "metadata": {
        "id": "7NzV0uFF8J6n"
      }
    },
    {
      "cell_type": "code",
      "source": [
        "import numpy as np\n",
        "array = np.random.randint(5, 30, 20)\n",
        "print(array)\n",
        "\n",
        "print(\"Elemento en la posición 5:\", array[4])\n",
        "print(\"Elemento en la primer posición:\", array[0])\n",
        "print(\"Elemento en la última posición\", array[-1])\n",
        "print(\"Elemento en la ante última posición\", array[-2])"
      ],
      "metadata": {
        "colab": {
          "base_uri": "https://localhost:8080/"
        },
        "id": "Z_yTfivk8Q6W",
        "outputId": "e6de8e18-ff4c-43ad-b635-af4c532a9253"
      },
      "execution_count": 13,
      "outputs": [
        {
          "output_type": "stream",
          "name": "stdout",
          "text": [
            "[19 16 21 18 26 11 16  8 12 17  7 23  6 26 25 17 12 20 24  7]\n",
            "Elemento en la posición 5: 26\n",
            "Elemento en la primer posición: 19\n",
            "Elemento en la última posición 7\n",
            "Elemento en la ante última posición 24\n"
          ]
        }
      ]
    },
    {
      "cell_type": "markdown",
      "source": [
        "##Indexación booleana\n",
        "\n",
        "Forma de obtener datos a partir de una condición.\n",
        "\n",
        "📢 Todos los elementos que cumplan con la condición serán “devueltos”."
      ],
      "metadata": {
        "id": "19nZyZT79DUj"
      }
    },
    {
      "cell_type": "code",
      "source": [
        "bool_index = array > 15\n",
        "print(\"Array booleano:\", bool_index)\n",
        "print(\"Elementos mayortes a 15:\", array[bool_index])\n",
        "print(\"Elementos entre 15 y 20:\", array[(array >= 15 ) & (array <= 20)])"
      ],
      "metadata": {
        "colab": {
          "base_uri": "https://localhost:8080/"
        },
        "id": "ZtKipxfj9EB2",
        "outputId": "4655167f-3974-4943-c0fb-8416beff1cca"
      },
      "execution_count": 4,
      "outputs": [
        {
          "output_type": "stream",
          "name": "stdout",
          "text": [
            "Array booleano: [ True False  True False False  True False False False  True  True  True\n",
            "  True  True  True  True  True False  True  True]\n",
            "Elementos mayortes a 15: [18 19 21 20 22 28 27 25 17 20 24 18 18]\n",
            "Elementos entre 15 y 20: [18 19 15 20 17 20 15 18 18]\n"
          ]
        }
      ]
    },
    {
      "cell_type": "markdown",
      "source": [
        "##Indexación por listas\n",
        "\n",
        "Permite obtener multiples elementos de un array con una lista de indices.\n",
        "\n",
        "📢 Al mandarle indices “desordenados” el array resultante obtiene los elementos en el orden en que se pasó el índice centro de la lista."
      ],
      "metadata": {
        "id": "wVUdxkpI-Qs8"
      }
    },
    {
      "cell_type": "code",
      "source": [
        "index_list = [3,8,5,0]\n",
        "print(\"Elementos en las posiciones 3,8,5 y 0:\", array[index_list])\n",
        "print(\"Elementos en las posiciones -1, 2,3 y 5:\", array[[-1,2,3, 5]])\n",
        "\n",
        "\n",
        "\n"
      ],
      "metadata": {
        "colab": {
          "base_uri": "https://localhost:8080/"
        },
        "id": "2tfbwyaM-SLn",
        "outputId": "05f6af5f-b153-423a-a551-350f08265b2b"
      },
      "execution_count": 14,
      "outputs": [
        {
          "output_type": "stream",
          "name": "stdout",
          "text": [
            "Elementos en las posiciones 3,8,5 y 0: [18 12 11 19]\n",
            "Elementos en las posiciones -1, 2,3 y 5: [ 7 21 18 11]\n",
            "Elemento de la fila 2, columna 2: 6\n",
            "Elementos de las fila 1 y 2, columna 2: [20  6]\n",
            "Elementos en la fila 1 , columna 2, y fila 3, columna 2: [6 6]\n",
            "Elementos mayores a 18: [27 29 26 20 20 25 29 29 20 23 21]\n"
          ]
        }
      ]
    },
    {
      "cell_type": "markdown",
      "source": [
        "##Indexación de arrays multidimensionales\n",
        "\n",
        "📢 ara acceder a un elemento de un array bidimensional, le indicamos 2 indice **[indice_fila, indice_columna]**"
      ],
      "metadata": {
        "id": "ctDIOKKw_yQD"
      }
    },
    {
      "cell_type": "code",
      "source": [
        "matrix = np.random.randint(5, 30, (5,5))\n",
        "print (matrix)\n",
        "print(\"Elemento de la fila 2, columna 2:\", matrix[2,2]) # Elemento especifio\n",
        "print(\"Elementos de las fila 1 y 2, columna 2:\", matrix[[1,2],2]) # Indexaciónb por lista (1)\n",
        "print(\"Elementos en la fila 1 , columna 2, y fila 3, columna 2:\", matrix[[1,2],[3,2]]) # Indexaciónb por lista (2)\n",
        "print(\"Elementos mayores a 18:\", matrix[matrix > 18]) # Indexación booleana"
      ],
      "metadata": {
        "colab": {
          "base_uri": "https://localhost:8080/"
        },
        "id": "iie2ukt2ACLV",
        "outputId": "d57dd9d1-63b0-47be-b34d-79e884fe840a"
      },
      "execution_count": 17,
      "outputs": [
        {
          "output_type": "stream",
          "name": "stdout",
          "text": [
            "[[15 22 18 26 29]\n",
            " [24 22 29 27 25]\n",
            " [ 5  5 21 24 15]\n",
            " [26 14 12 14 10]\n",
            " [ 8 21 24 12 19]]\n",
            "Elemento de la fila 2, columna 2: 21\n",
            "Elementos de las fila 1 y 2, columna 2: [29 21]\n",
            "Elementos en la fila 1 , columna 2, y fila 3, columna 2: [27 21]\n",
            "Elementos mayores a 18: [22 26 29 24 22 29 27 25 21 24 26 21 24 19]\n"
          ]
        }
      ]
    }
  ]
}