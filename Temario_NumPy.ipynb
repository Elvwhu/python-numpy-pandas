{
  "nbformat": 4,
  "nbformat_minor": 0,
  "metadata": {
    "colab": {
      "provenance": [],
      "authorship_tag": "ABX9TyMvee+uCfwsC7pJ75/4xwf+",
      "include_colab_link": true
    },
    "kernelspec": {
      "name": "python3",
      "display_name": "Python 3"
    },
    "language_info": {
      "name": "python"
    }
  },
  "cells": [
    {
      "cell_type": "markdown",
      "metadata": {
        "id": "view-in-github",
        "colab_type": "text"
      },
      "source": [
        "<a href=\"https://colab.research.google.com/github/Elvwhu/python-numpy-pandas/blob/main/Temario_NumPy.ipynb\" target=\"_parent\"><img src=\"https://colab.research.google.com/assets/colab-badge.svg\" alt=\"Open In Colab\"/></a>"
      ]
    },
    {
      "cell_type": "markdown",
      "source": [
        "Ejercicios Prácticos con NumPy\n",
        "Vamos a consolidar lo que has aprendido con ejercicios exclusivos de NumPy, diseñados para reforzar tus habilidades y prepararte para las conexiones futuras con Pandas y Matplotlib.\n",
        "\n",
        "Operaciones Básicas con Arrays\n",
        "\n",
        "Instrucción: Crea dos arrays de 1D con valores enteros y realiza las operaciones de suma, resta, multiplicación, y división entre ellos.\n",
        "\n",
        "Código:"
      ],
      "metadata": {
        "id": "9bzyxtKslvaO"
      }
    },
    {
      "cell_type": "code",
      "execution_count": 2,
      "metadata": {
        "colab": {
          "base_uri": "https://localhost:8080/"
        },
        "id": "G_I_v2clllW1",
        "outputId": "8941c270-95c3-4005-d242-7bfa4a433df3"
      },
      "outputs": [
        {
          "output_type": "stream",
          "name": "stdout",
          "text": [
            "Suma: [11 22 33 44]\n",
            "Resta: [ 9 18 27 36]\n",
            "Multiplicación: [ 10  40  90 160]\n",
            "División: [10. 10. 10. 10.]\n"
          ]
        }
      ],
      "source": [
        "import numpy as np\n",
        "\n",
        "array1 = np.array([10, 20, 30, 40])\n",
        "array2 = np.array([1, 2, 3, 4])\n",
        "\n",
        "suma = array1 + array2\n",
        "resta = array1 - array2\n",
        "multiplicacion = array1 * array2\n",
        "division = array1 / array2\n",
        "\n",
        "print(\"Suma:\", suma)\n",
        "print(\"Resta:\", resta)\n",
        "print(\"Multiplicación:\", multiplicacion)\n",
        "print(\"División:\", division)"
      ]
    },
    {
      "cell_type": "markdown",
      "source": [
        "Cálculos Estadísticos en Arrays\n",
        "\n",
        "Instrucción: Dado un array de datos, calcula la media, mediana, varianza, y desviación estándar.\n",
        "\n",
        "Código:\n"
      ],
      "metadata": {
        "id": "J0yr-Q5plzui"
      }
    },
    {
      "cell_type": "code",
      "source": [
        "import numpy as np\n",
        "\n",
        "datos = np.array([23, 76, 35, 67, 89, 45, 68, 79, 35])\n",
        "\n",
        "media = np.mean(datos)\n",
        "mediana = np.median(datos)\n",
        "varianza = np.var(datos)\n",
        "desviacion = np.std(datos)\n",
        "\n",
        "print(\"Media:\", media)\n",
        "print(\"Mediana:\", mediana)\n",
        "print(\"Varianza:\", varianza)\n",
        "print(\"Desviación estándar:\", desviacion)"
      ],
      "metadata": {
        "colab": {
          "base_uri": "https://localhost:8080/"
        },
        "id": "pGC8EFisl0i2",
        "outputId": "ae597adf-ff04-4c75-9fac-d476163e78eb"
      },
      "execution_count": 3,
      "outputs": [
        {
          "output_type": "stream",
          "name": "stdout",
          "text": [
            "Media: 57.44444444444444\n",
            "Mediana: 67.0\n",
            "Varianza: 484.02469135802465\n",
            "Desviación estándar: 22.000561160071\n"
          ]
        }
      ]
    },
    {
      "cell_type": "markdown",
      "source": [
        "Operaciones Matriciales\n",
        "\n",
        "Instrucción: Crea dos matrices de 2x2 y realiza las operaciones de suma, resta, multiplicación (producto matricial) y cálculo de la inversa de una de ellas.\n",
        "\n",
        "Código:"
      ],
      "metadata": {
        "id": "MXxIgQL0l28f"
      }
    },
    {
      "cell_type": "code",
      "source": [
        "import numpy as np\n",
        "\n",
        "matriz1 = np.array([[1, 2], [3, 4]])\n",
        "matriz2 = np.array([[5, 6], [7, 8]])\n",
        "\n",
        "suma_matrices = matriz1 + matriz2\n",
        "resta_matrices = matriz1 - matriz2\n",
        "producto_matrices = np.dot(matriz1, matriz2)\n",
        "inversa_matriz1 = np.linalg.inv(matriz1)\n",
        "\n",
        "print(\"Suma de matrices:\\n\", suma_matrices)\n",
        "print(\"Resta de matrices:\\n\", resta_matrices)\n",
        "print(\"Producto de matrices:\\n\", producto_matrices)\n",
        "print(\"Inversa de la matriz 1:\\n\", inversa_matriz1)"
      ],
      "metadata": {
        "colab": {
          "base_uri": "https://localhost:8080/"
        },
        "id": "HXrfeltOl5HQ",
        "outputId": "61920f7a-f1d3-428d-99b0-f1fd57df968e"
      },
      "execution_count": 4,
      "outputs": [
        {
          "output_type": "stream",
          "name": "stdout",
          "text": [
            "Suma de matrices:\n",
            " [[ 6  8]\n",
            " [10 12]]\n",
            "Resta de matrices:\n",
            " [[-4 -4]\n",
            " [-4 -4]]\n",
            "Producto de matrices:\n",
            " [[19 22]\n",
            " [43 50]]\n",
            "Inversa de la matriz 1:\n",
            " [[-2.   1. ]\n",
            " [ 1.5 -0.5]]\n"
          ]
        }
      ]
    },
    {
      "cell_type": "markdown",
      "source": [
        "Resolución de un Sistema de Ecuaciones Lineales\n",
        "\n",
        "Instrucción: Resuelve el sistema de ecuaciones lineales dado por Ax=b, donde A es una matriz 2x2 y b es un vector de 2 elementos.\n",
        "\n",
        "Ax=bAx = b\n",
        "\n",
        "Código:\n"
      ],
      "metadata": {
        "id": "dNR5ogF8l6yF"
      }
    },
    {
      "cell_type": "code",
      "source": [
        "import numpy as np\n",
        "\n",
        "A = np.array([[2, 3], [1, 2]])\n",
        "b = np.array([8, 5])\n",
        "\n",
        "x = np.linalg.solve(A, b)\n",
        "print(\"Solución del sistema de ecuaciones:\", x)"
      ],
      "metadata": {
        "colab": {
          "base_uri": "https://localhost:8080/"
        },
        "id": "TEKhWUq8l8or",
        "outputId": "ebb1bd16-3b92-4f00-957a-a77455193e64"
      },
      "execution_count": 5,
      "outputs": [
        {
          "output_type": "stream",
          "name": "stdout",
          "text": [
            "Solución del sistema de ecuaciones: [1. 2.]\n"
          ]
        }
      ]
    },
    {
      "cell_type": "markdown",
      "source": [
        "\n",
        "Simulación de Datos\n",
        "\n",
        "Instrucción: Genera un array de 1000 números aleatorios que sigan una distribución normal con media 0 y desviación estándar 1. Calcula la media y desviación estándar del array generado.\n",
        "\n",
        "Código:"
      ],
      "metadata": {
        "id": "sKyuvzjul-QQ"
      }
    },
    {
      "cell_type": "code",
      "source": [
        "import numpy as np\n",
        "\n",
        "datos_simulados = np.random.normal(0, 1, 1000)\n",
        "media_simulada = np.mean(datos_simulados)\n",
        "desviacion_simulada = np.std(datos_simulados)\n",
        "\n",
        "print(\"Media de los datos simulados:\", media_simulada)\n",
        "print(\"Desviación estándar de los datos simulados:\", desviacion_simulada)"
      ],
      "metadata": {
        "colab": {
          "base_uri": "https://localhost:8080/"
        },
        "id": "GZDoiFBmmBuc",
        "outputId": "7f94b44a-3f32-434c-b126-6f7256951603"
      },
      "execution_count": 6,
      "outputs": [
        {
          "output_type": "stream",
          "name": "stdout",
          "text": [
            "Media de los datos simulados: 0.008119602530266747\n",
            "Desviación estándar de los datos simulados: 0.9657819872369804\n"
          ]
        }
      ]
    }
  ]
}