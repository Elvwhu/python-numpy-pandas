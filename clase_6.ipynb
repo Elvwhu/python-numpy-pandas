{
  "nbformat": 4,
  "nbformat_minor": 0,
  "metadata": {
    "colab": {
      "provenance": [],
      "authorship_tag": "ABX9TyNJZ2SZBzEZTRH8OP9DlSfL",
      "include_colab_link": true
    },
    "kernelspec": {
      "name": "python3",
      "display_name": "Python 3"
    },
    "language_info": {
      "name": "python"
    }
  },
  "cells": [
    {
      "cell_type": "markdown",
      "metadata": {
        "id": "view-in-github",
        "colab_type": "text"
      },
      "source": [
        "<a href=\"https://colab.research.google.com/github/Elvwhu/python-numpy-pandas/blob/main/clase_6.ipynb\" target=\"_parent\"><img src=\"https://colab.research.google.com/assets/colab-badge.svg\" alt=\"Open In Colab\"/></a>"
      ]
    },
    {
      "cell_type": "markdown",
      "source": [
        "## Transformación de Arrays\n",
        "Transpuesta\n",
        "La transpuesta de una matriz en NumPy se puede obtener utilizando el método .T. Este método intercambia las filas y columnas de la matriz original. Por ejemplo, si tienes una matriz A, su transpuesta se obtiene con A.T."
      ],
      "metadata": {
        "id": "FSSvuVSaSTE6"
      }
    },
    {
      "cell_type": "code",
      "source": [
        "import numpy as np\n",
        "matrix = np.array([\n",
        "    [1, 2, 3, 4],\n",
        "    [5, 6, 7, 8],\n",
        "    [9, 10, 11, 12]\n",
        "])\n",
        "\n",
        "#Matriz normal\n",
        "print(matrix,\"\\n\")\n",
        "\n",
        "#Matriz invertida o transpuesta\n",
        "transposed_matrix = matrix.T\n",
        "print(transposed_matrix)"
      ],
      "metadata": {
        "colab": {
          "base_uri": "https://localhost:8080/"
        },
        "id": "-HKujUgEShwN",
        "outputId": "203f8d05-7a52-40b7-902c-ee7e94dbec07"
      },
      "execution_count": 4,
      "outputs": [
        {
          "output_type": "stream",
          "name": "stdout",
          "text": [
            "[[ 1  2  3  4]\n",
            " [ 5  6  7  8]\n",
            " [ 9 10 11 12]] \n",
            "\n",
            "[[ 1  5  9]\n",
            " [ 2  6 10]\n",
            " [ 3  7 11]\n",
            " [ 4  8 12]]\n"
          ]
        }
      ]
    },
    {
      "cell_type": "markdown",
      "source": [
        "##Reshape\n",
        "El método reshape de NumPy permite cambiar la forma de un array sin alterar sus datos. Por ejemplo, si tienes un array B de forma (2, 3), puedes cambiarlo a una forma (3, 2) utilizando .reshape(3, 2)."
      ],
      "metadata": {
        "id": "7oAa2_ZpUHI0"
      }
    },
    {
      "cell_type": "code",
      "source": [
        "array = np.arange(1,13)\n",
        "reshaped_array = array.reshape (3,4)\n",
        "\n",
        "print (\"Array original:\", array)\n",
        "print (\"\\n Array con Reshape:\\n\", reshaped_array)"
      ],
      "metadata": {
        "colab": {
          "base_uri": "https://localhost:8080/"
        },
        "id": "wIun9hVfUJqA",
        "outputId": "001468f1-0946-44a2-b919-ec7d0db4c092"
      },
      "execution_count": 18,
      "outputs": [
        {
          "output_type": "stream",
          "name": "stdout",
          "text": [
            "Array original: [ 1  2  3  4  5  6  7  8  9 10 11 12]\n",
            "\n",
            " Array con Reshape:\n",
            " [[ 1  2  3  4]\n",
            " [ 5  6  7  8]\n",
            " [ 9 10 11 12]]\n"
          ]
        }
      ]
    },
    {
      "cell_type": "markdown",
      "source": [
        "##Reverse"
      ],
      "metadata": {
        "id": "rkSxb4gCV0Sr"
      }
    },
    {
      "cell_type": "code",
      "source": [
        "array = np.arange(1,16)\n",
        "reversed_array = array[::-1]\n",
        "print (\"Array origninal:\", array)\n",
        "print (\"\\nArray reverso:\", reversed_array)"
      ],
      "metadata": {
        "colab": {
          "base_uri": "https://localhost:8080/"
        },
        "id": "ZBhCElG8V1t7",
        "outputId": "d6648c05-d5b5-4b41-e5f8-fdb166cf88cb"
      },
      "execution_count": 21,
      "outputs": [
        {
          "output_type": "stream",
          "name": "stdout",
          "text": [
            "Array origninal: [ 1  2  3  4  5  6  7  8  9 10 11 12 13 14 15]\n",
            "\n",
            "Array reverso: [15 14 13 12 11 10  9  8  7  6  5  4  3  2  1]\n"
          ]
        }
      ]
    },
    {
      "cell_type": "markdown",
      "source": [
        "##Flattening\n",
        "El método flatten de NumPy convierte un array multidimensional en un array unidimensional. Esto es útil cuando necesitas trabajar con datos en una forma lineal. Por ejemplo, si tienes un array D de forma (2, 3), puedes aplanarlo utilizando .flatten().\n"
      ],
      "metadata": {
        "id": "7xHFlTKaWozs"
      }
    },
    {
      "cell_type": "code",
      "source": [
        "matrix = np.array([\n",
        "    [1, 2, 3, 4],\n",
        "    [5, 6, 7, 8],\n",
        "    [9, 10, 11, 12]\n",
        "])\n",
        "\n",
        "flattened_matrix = matrix.flatten()\n",
        "print (\"Matriz original:\\n\", matrix)\n",
        "print (\"\\nMatriz con Flattening:\", flattened_matrix)"
      ],
      "metadata": {
        "colab": {
          "base_uri": "https://localhost:8080/"
        },
        "id": "B7IC6_5WWq7X",
        "outputId": "2d134c79-f540-44c9-b010-3cd4655a2511"
      },
      "execution_count": 22,
      "outputs": [
        {
          "output_type": "stream",
          "name": "stdout",
          "text": [
            "Matriz original:\n",
            " [[ 1  2  3  4]\n",
            " [ 5  6  7  8]\n",
            " [ 9 10 11 12]]\n",
            "\n",
            "Matriz con Flattening: [ 1  2  3  4  5  6  7  8  9 10 11 12]\n"
          ]
        }
      ]
    }
  ]
}