{
  "nbformat": 4,
  "nbformat_minor": 0,
  "metadata": {
    "colab": {
      "provenance": [],
      "authorship_tag": "ABX9TyNqARpDeFAR4wq9iT0CT/D5",
      "include_colab_link": true
    },
    "kernelspec": {
      "name": "python3",
      "display_name": "Python 3"
    },
    "language_info": {
      "name": "python"
    }
  },
  "cells": [
    {
      "cell_type": "markdown",
      "metadata": {
        "id": "view-in-github",
        "colab_type": "text"
      },
      "source": [
        "<a href=\"https://colab.research.google.com/github/Elvwhu/python-numpy-pandas/blob/main/clase_8.ipynb\" target=\"_parent\"><img src=\"https://colab.research.google.com/assets/colab-badge.svg\" alt=\"Open In Colab\"/></a>"
      ]
    },
    {
      "cell_type": "markdown",
      "source": [
        "##Cálculos Matrizales\n"
      ],
      "metadata": {
        "id": "5jjHzacLcBO5"
      }
    },
    {
      "cell_type": "code",
      "source": [
        "import numpy as np\n",
        "\n",
        "A = np.array([[1, 2, 3], [4, 5, 6], [7, 8, 9]])\n",
        "B = np.array([[9, 8, 7], [6, 5, 4], [3, 2, 1]])\n",
        "C = np.array([[1, 2], [3, 4], [5, 6]])\n",
        "D = np.array([[7, 8], [9, 10]])\n",
        "E = np.array([[1, 2], [3, 4]])\n",
        "\n",
        "print(\"Matriz A:\")\n",
        "print(A)\n",
        "print(\"\\nMatriz B:\")\n",
        "print(B)\n",
        "\n",
        "\n",
        "suma = A + B\n",
        "resta = A - B\n",
        "print(\"\\nSuma de A y B:\")\n",
        "print(suma)\n",
        "print(\"\\nResta de A y B:\")\n",
        "print(resta)\n",
        "\n",
        "\n",
        "multiplicacion_elemento = A * B\n",
        "print(\"\\nMultiplicación elemento a elemento de A y B:\")\n",
        "print(multiplicacion_elemento)\n",
        "\n",
        "\n",
        "producto_punto = np.dot(C, D)\n",
        "print(\"\\nProducto punto de C y D:\")\n",
        "print(producto_punto)\n",
        "\n",
        "A_transpuesta = A.T\n",
        "print(\"\\nTransposición de A:\")\n",
        "print(A_transpuesta)\n",
        "\n",
        "\n",
        "E_inversa = np.linalg.inv(E)\n",
        "determinante_E = np.linalg.det(E)\n",
        "print(\"\\nInversa de E:\")\n",
        "print(E_inversa)\n",
        "print(\"\\nDeterminante de E:\")\n",
        "print(determinante_E)\n",
        "\n",
        "\n",
        "eigenvalores, eigenvectores = np.linalg.eig(E)\n",
        "print(\"\\nEigenvalores de E:\")\n",
        "print(eigenvalores)\n",
        "print(\"\\nEigenvectores de E:\")\n",
        "print(eigenvectores)\n",
        "\n",
        "\n",
        "A_sys = np.array([[3, 1], [1, 2]])\n",
        "b = np.array([9, 8])\n",
        "x = np.linalg.solve(A_sys, b)\n",
        "print(\"\\nSolución del sistema de ecuaciones Ax = b:\")\n",
        "print(x)\n",
        "\n",
        "\n",
        "norma_A = np.linalg.norm(A)\n",
        "print(\"\\nNorma de A:\")\n",
        "print(norma_A)"
      ],
      "metadata": {
        "colab": {
          "base_uri": "https://localhost:8080/"
        },
        "id": "VHzzQxeycE_L",
        "outputId": "0b7f94bc-a135-4043-fba6-0984ffed36e5"
      },
      "execution_count": 1,
      "outputs": [
        {
          "output_type": "stream",
          "name": "stdout",
          "text": [
            "Matriz A:\n",
            "[[1 2 3]\n",
            " [4 5 6]\n",
            " [7 8 9]]\n",
            "\n",
            "Matriz B:\n",
            "[[9 8 7]\n",
            " [6 5 4]\n",
            " [3 2 1]]\n",
            "\n",
            "Suma de A y B:\n",
            "[[10 10 10]\n",
            " [10 10 10]\n",
            " [10 10 10]]\n",
            "\n",
            "Resta de A y B:\n",
            "[[-8 -6 -4]\n",
            " [-2  0  2]\n",
            " [ 4  6  8]]\n",
            "\n",
            "Multiplicación elemento a elemento de A y B:\n",
            "[[ 9 16 21]\n",
            " [24 25 24]\n",
            " [21 16  9]]\n",
            "\n",
            "Producto punto de C y D:\n",
            "[[ 25  28]\n",
            " [ 57  64]\n",
            " [ 89 100]]\n",
            "\n",
            "Transposición de A:\n",
            "[[1 4 7]\n",
            " [2 5 8]\n",
            " [3 6 9]]\n",
            "\n",
            "Inversa de E:\n",
            "[[-2.   1. ]\n",
            " [ 1.5 -0.5]]\n",
            "\n",
            "Determinante de E:\n",
            "-2.0000000000000004\n",
            "\n",
            "Eigenvalores de E:\n",
            "[-0.37228132  5.37228132]\n",
            "\n",
            "Eigenvectores de E:\n",
            "[[-0.82456484 -0.41597356]\n",
            " [ 0.56576746 -0.90937671]]\n",
            "\n",
            "Solución del sistema de ecuaciones Ax = b:\n",
            "[2. 3.]\n",
            "\n",
            "Norma de A:\n",
            "16.881943016134134\n"
          ]
        }
      ]
    }
  ]
}